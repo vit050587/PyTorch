{
  "cells": [
    {
      "cell_type": "markdown",
      "metadata": {
        "id": "view-in-github",
        "colab_type": "text"
      },
      "source": [
        "<a href=\"https://colab.research.google.com/github/vit050587/PyTorch/blob/master/KVA_PYTORCH_HW_01_ipynb%22.ipynb\" target=\"_parent\"><img src=\"https://colab.research.google.com/assets/colab-badge.svg\" alt=\"Open In Colab\"/></a>"
      ]
    },
    {
      "cell_type": "code",
      "execution_count": 1,
      "metadata": {
        "id": "_CNZn_3CofVO"
      },
      "outputs": [],
      "source": [
        "import torch"
      ]
    },
    {
      "cell_type": "code",
      "execution_count": 2,
      "metadata": {
        "id": "QGYTKAxeofVR",
        "colab": {
          "base_uri": "https://localhost:8080/"
        },
        "outputId": "9530d7ce-a672-46b5-f0f4-763feea709b0"
      },
      "outputs": [
        {
          "output_type": "execute_result",
          "data": {
            "text/plain": [
              "(tensor([[[ 0.6400, -0.0269, -0.3201,  0.9135,  0.6278],\n",
              "          [ 0.1552, -0.7653, -0.2313,  0.8182,  0.1330],\n",
              "          [-0.6433, -0.4754,  0.9673,  1.3043,  0.1552],\n",
              "          [ 1.2471,  1.1486, -1.3232,  0.8649, -1.6233]],\n",
              " \n",
              "         [[ 0.6398, -1.0307, -0.9616,  1.7828, -0.4826],\n",
              "          [ 0.8068, -0.6841, -0.4834,  0.1119, -0.4788],\n",
              "          [-0.4754,  1.7196, -1.2248, -0.2131,  2.8287],\n",
              "          [-0.0761,  0.6124, -0.7852, -0.7969, -0.7072]],\n",
              " \n",
              "         [[-0.5401, -0.5569,  0.6075,  0.2805, -0.7019],\n",
              "          [-1.1090,  0.1342, -0.0086,  0.1948,  1.0765],\n",
              "          [ 0.6853, -1.2651, -0.6639,  2.0174, -0.4348],\n",
              "          [-0.3908, -1.0491, -0.5701,  1.8960,  1.4356]]]),\n",
              " 'torch.FloatTensor')"
            ]
          },
          "metadata": {},
          "execution_count": 2
        }
      ],
      "source": [
        "# 1. Создайте случайный FloatTensor размера 3x4x5\n",
        "x = torch.randn(3, 4, 5)\n",
        "x, x.type()"
      ]
    },
    {
      "cell_type": "code",
      "execution_count": 3,
      "metadata": {
        "id": "7GV_q8DdofVV",
        "colab": {
          "base_uri": "https://localhost:8080/"
        },
        "outputId": "46802b22-4767-4fd4-a8ec-e5b0f84b1cf8"
      },
      "outputs": [
        {
          "output_type": "execute_result",
          "data": {
            "text/plain": [
              "torch.Size([3, 4, 5])"
            ]
          },
          "metadata": {},
          "execution_count": 3
        }
      ],
      "source": [
        "# 2. Выведите его форму (shape)\n",
        "x.shape"
      ]
    },
    {
      "cell_type": "code",
      "execution_count": 4,
      "metadata": {
        "id": "f1OTy65FofVX",
        "colab": {
          "base_uri": "https://localhost:8080/"
        },
        "outputId": "569dcb0e-86c2-4d24-992d-ac4686df65b7"
      },
      "outputs": [
        {
          "output_type": "execute_result",
          "data": {
            "text/plain": [
              "tensor([[ 0.6400, -0.0269, -0.3201,  0.9135,  0.6278,  0.1552, -0.7653, -0.2313,\n",
              "          0.8182,  0.1330],\n",
              "        [-0.6433, -0.4754,  0.9673,  1.3043,  0.1552,  1.2471,  1.1486, -1.3232,\n",
              "          0.8649, -1.6233],\n",
              "        [ 0.6398, -1.0307, -0.9616,  1.7828, -0.4826,  0.8068, -0.6841, -0.4834,\n",
              "          0.1119, -0.4788],\n",
              "        [-0.4754,  1.7196, -1.2248, -0.2131,  2.8287, -0.0761,  0.6124, -0.7852,\n",
              "         -0.7969, -0.7072],\n",
              "        [-0.5401, -0.5569,  0.6075,  0.2805, -0.7019, -1.1090,  0.1342, -0.0086,\n",
              "          0.1948,  1.0765],\n",
              "        [ 0.6853, -1.2651, -0.6639,  2.0174, -0.4348, -0.3908, -1.0491, -0.5701,\n",
              "          1.8960,  1.4356]])"
            ]
          },
          "metadata": {},
          "execution_count": 4
        }
      ],
      "source": [
        "# 3. Приведите его к форме 6х10\n",
        "x = x.reshape(6, 10)\n",
        "x"
      ]
    },
    {
      "cell_type": "code",
      "execution_count": 5,
      "metadata": {
        "id": "BEVOv9_TofVe",
        "colab": {
          "base_uri": "https://localhost:8080/"
        },
        "outputId": "fbfb1fe0-40e9-4fee-df17-bc84b57d3139"
      },
      "outputs": [
        {
          "output_type": "execute_result",
          "data": {
            "text/plain": [
              "(tensor([6, 2, 1, 6, 7, 3, 7, 0, 7, 2], dtype=torch.int32), 'torch.IntTensor')"
            ]
          },
          "metadata": {},
          "execution_count": 5
        }
      ],
      "source": [
        "# 4. Создайте случайный IntTensor размера 10\n",
        "a = torch.randint(10, size=(10,)).type(torch.IntTensor)\n",
        "a, a.type()"
      ]
    },
    {
      "cell_type": "code",
      "source": [
        "# 5. Умножьте созданный FloatTensor на созданный IntTensor поэлементно\n",
        "xa = x * a\n",
        "xa"
      ],
      "metadata": {
        "id": "TAX3DUiSa07K",
        "colab": {
          "base_uri": "https://localhost:8080/"
        },
        "outputId": "6c8ece39-957d-4d1d-d32e-0f453b7dc364"
      },
      "execution_count": 6,
      "outputs": [
        {
          "output_type": "execute_result",
          "data": {
            "text/plain": [
              "tensor([[ 3.8399, -0.0538, -0.3201,  5.4810,  4.3947,  0.4657, -5.3568, -0.0000,\n",
              "          5.7277,  0.2661],\n",
              "        [-3.8599, -0.9509,  0.9673,  7.8257,  1.0864,  3.7412,  8.0399, -0.0000,\n",
              "          6.0541, -3.2466],\n",
              "        [ 3.8386, -2.0613, -0.9616, 10.6969, -3.3782,  2.4205, -4.7889, -0.0000,\n",
              "          0.7834, -0.9576],\n",
              "        [-2.8526,  3.4392, -1.2248, -1.2788, 19.8009, -0.2283,  4.2870, -0.0000,\n",
              "         -5.5783, -1.4143],\n",
              "        [-3.2403, -1.1138,  0.6075,  1.6831, -4.9132, -3.3270,  0.9393, -0.0000,\n",
              "          1.3635,  2.1531],\n",
              "        [ 4.1115, -2.5302, -0.6639, 12.1045, -3.0434, -1.1724, -7.3439, -0.0000,\n",
              "         13.2718,  2.8713]])"
            ]
          },
          "metadata": {},
          "execution_count": 6
        }
      ]
    },
    {
      "cell_type": "code",
      "execution_count": 7,
      "metadata": {
        "id": "eUxdWlQZofVi",
        "colab": {
          "base_uri": "https://localhost:8080/"
        },
        "outputId": "4b5739d3-8e66-49c2-e865-3c9a1ef27749"
      },
      "outputs": [
        {
          "output_type": "execute_result",
          "data": {
            "text/plain": [
              "tensor([[ 125.9931,   25.0733,   89.9542,   13.8661,  -23.1423,  184.6800],\n",
              "        [  25.0733,  204.9884,   44.6597,   22.4936,   18.3569,   84.9092],\n",
              "        [  89.9542,   44.6597,  176.0682, -121.5302,   10.3303,  201.3780],\n",
              "        [  13.8661,   22.4936, -121.5302,  466.7232, -100.6335, -204.6674],\n",
              "        [ -23.1423,   18.3569,   10.3303, -100.6335,   57.5273,   45.6980],\n",
              "        [ 184.6800,   84.9092,  201.3780, -204.6674,   45.6980,  419.2202]])"
            ]
          },
          "metadata": {},
          "execution_count": 7
        }
      ],
      "source": [
        "# 6. Умножьте тензор матрично на себя, чтобы результат был размерности 6x6\n",
        "# Подсказка: .dot может не подойти\n",
        "xa_xa = xa @ xa.T\n",
        "xa_xa"
      ]
    },
    {
      "cell_type": "code",
      "execution_count": 8,
      "metadata": {
        "id": "u3V6CsNkofVj",
        "colab": {
          "base_uri": "https://localhost:8080/"
        },
        "outputId": "d61a1167-319e-40dd-e831-36878a77994f"
      },
      "outputs": [
        {
          "output_type": "stream",
          "name": "stdout",
          "text": [
            "dy/dx:  tensor([3.])\n",
            "dy/dz:  tensor([1.])\n",
            "dy/dt:  tensor([-75.])\n"
          ]
        }
      ],
      "source": [
        "# 7. Посчитайте производную функции y = x**3 + z - 75t в точке (1, 0.5, 2)\n",
        "x = torch.tensor([1.], requires_grad=True)\n",
        "z = torch.tensor([0.5], requires_grad=True)\n",
        "t = torch.tensor([2.], requires_grad=True)\n",
        "\n",
        "y = x**3 + z - 75*t\n",
        "\n",
        "y.backward()\n",
        "\n",
        "print('dy/dx: ', x.grad)\n",
        "print('dy/dz: ', z.grad)\n",
        "print('dy/dt: ', t.grad)"
      ]
    },
    {
      "cell_type": "code",
      "execution_count": 9,
      "metadata": {
        "id": "FzH6QkyxofVm",
        "colab": {
          "base_uri": "https://localhost:8080/"
        },
        "outputId": "3c931ada-a1a1-495d-c871-4a4974ecef7a"
      },
      "outputs": [
        {
          "output_type": "execute_result",
          "data": {
            "text/plain": [
              "tensor([[1., 1., 1., 1., 1., 1.],\n",
              "        [1., 1., 1., 1., 1., 1.],\n",
              "        [1., 1., 1., 1., 1., 1.],\n",
              "        [1., 1., 1., 1., 1., 1.],\n",
              "        [1., 1., 1., 1., 1., 1.]])"
            ]
          },
          "metadata": {},
          "execution_count": 9
        }
      ],
      "source": [
        "# 8. Создайте единичный тензор размера 5x6\n",
        "t_ones = torch.ones(5, 6)\n",
        "t_ones"
      ]
    },
    {
      "cell_type": "code",
      "execution_count": 10,
      "metadata": {
        "id": "z49ttvWPofVo",
        "colab": {
          "base_uri": "https://localhost:8080/"
        },
        "outputId": "4ef0dc3a-1fba-42eb-de39-34585b20b43e"
      },
      "outputs": [
        {
          "output_type": "execute_result",
          "data": {
            "text/plain": [
              "array([[1., 1., 1., 1., 1., 1.],\n",
              "       [1., 1., 1., 1., 1., 1.],\n",
              "       [1., 1., 1., 1., 1., 1.],\n",
              "       [1., 1., 1., 1., 1., 1.],\n",
              "       [1., 1., 1., 1., 1., 1.]], dtype=float32)"
            ]
          },
          "metadata": {},
          "execution_count": 10
        }
      ],
      "source": [
        "# 9. Переведите его в формат numpy\n",
        "t_ones = t_ones.numpy()\n",
        "t_ones"
      ]
    }
  ],
  "metadata": {
    "kernelspec": {
      "display_name": "Python 3",
      "language": "python",
      "name": "python3"
    },
    "language_info": {
      "codemirror_mode": {
        "name": "ipython",
        "version": 3
      },
      "file_extension": ".py",
      "mimetype": "text/x-python",
      "name": "python",
      "nbconvert_exporter": "python",
      "pygments_lexer": "ipython3",
      "version": "3.7.4"
    },
    "colab": {
      "provenance": [],
      "include_colab_link": true
    }
  },
  "nbformat": 4,
  "nbformat_minor": 0
}