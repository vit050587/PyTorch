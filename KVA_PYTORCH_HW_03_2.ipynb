{
  "nbformat": 4,
  "nbformat_minor": 0,
  "metadata": {
    "colab": {
      "provenance": [],
      "authorship_tag": "ABX9TyNlCeyzWgGYamjKROuoVyHy",
      "include_colab_link": true
    },
    "kernelspec": {
      "name": "python3",
      "display_name": "Python 3"
    },
    "language_info": {
      "name": "python"
    }
  },
  "cells": [
    {
      "cell_type": "markdown",
      "metadata": {
        "id": "view-in-github",
        "colab_type": "text"
      },
      "source": [
        "<a href=\"https://colab.research.google.com/github/vit050587/PyTorch/blob/master/KVA_PYTORCH_HW_03_2.ipynb\" target=\"_parent\"><img src=\"https://colab.research.google.com/assets/colab-badge.svg\" alt=\"Open In Colab\"/></a>"
      ]
    },
    {
      "cell_type": "markdown",
      "source": [
        "# Попрактикуемся с тем, что изучили\n",
        "\n",
        "Будем практиковаться на датасете:\n",
        "sklearn.datasets.fetch_california_housing\n",
        "\n",
        "Ваша задача:\n",
        "1. Создать Dataset для загрузки данных (используем только числовые данные)\n",
        "2. Обернуть его в Dataloader\n",
        "3. Написать архитектуру сети, которая предсказывает число показов на основании числовых данных (вы всегда можете нагенерить дополнительных факторов). Сеть должна включать BatchNorm слои и Dropout (или НЕ включать, но нужно обосновать)\n",
        "4. Учить будем на функцию потерь с кагла (log RMSE) - нужно её реализовать\n",
        "5. Сравните сходимость Adam, RMSProp и SGD, сделайте вывод по качеству работы модели\n",
        "\n",
        "train-test разделение нужно сделать с помощью sklearn random_state=13, test_size = 0.25\n",
        "\n",
        "Вопросы? в личку @Kinetikm"
      ],
      "metadata": {
        "id": "ZedmFTCjCg-w"
      }
    },
    {
      "cell_type": "code",
      "source": [
        "!pip install torchmetrics"
      ],
      "metadata": {
        "colab": {
          "base_uri": "https://localhost:8080/"
        },
        "id": "8Zz255aDE754",
        "outputId": "f23c03ca-08a9-46f6-a4a6-508c668e2de8"
      },
      "execution_count": 2,
      "outputs": [
        {
          "output_type": "stream",
          "name": "stdout",
          "text": [
            "Looking in indexes: https://pypi.org/simple, https://us-python.pkg.dev/colab-wheels/public/simple/\n",
            "Collecting torchmetrics\n",
            "  Downloading torchmetrics-0.11.4-py3-none-any.whl (519 kB)\n",
            "\u001b[2K     \u001b[90m━━━━━━━━━━━━━━━━━━━━━━━━━━━━━━━━━━━━━━\u001b[0m \u001b[32m519.2/519.2 kB\u001b[0m \u001b[31m10.6 MB/s\u001b[0m eta \u001b[36m0:00:00\u001b[0m\n",
            "\u001b[?25hRequirement already satisfied: numpy>=1.17.2 in /usr/local/lib/python3.10/dist-packages (from torchmetrics) (1.22.4)\n",
            "Requirement already satisfied: torch>=1.8.1 in /usr/local/lib/python3.10/dist-packages (from torchmetrics) (2.0.1+cu118)\n",
            "Requirement already satisfied: packaging in /usr/local/lib/python3.10/dist-packages (from torchmetrics) (23.1)\n",
            "Requirement already satisfied: filelock in /usr/local/lib/python3.10/dist-packages (from torch>=1.8.1->torchmetrics) (3.12.0)\n",
            "Requirement already satisfied: typing-extensions in /usr/local/lib/python3.10/dist-packages (from torch>=1.8.1->torchmetrics) (4.5.0)\n",
            "Requirement already satisfied: sympy in /usr/local/lib/python3.10/dist-packages (from torch>=1.8.1->torchmetrics) (1.11.1)\n",
            "Requirement already satisfied: networkx in /usr/local/lib/python3.10/dist-packages (from torch>=1.8.1->torchmetrics) (3.1)\n",
            "Requirement already satisfied: jinja2 in /usr/local/lib/python3.10/dist-packages (from torch>=1.8.1->torchmetrics) (3.1.2)\n",
            "Requirement already satisfied: triton==2.0.0 in /usr/local/lib/python3.10/dist-packages (from torch>=1.8.1->torchmetrics) (2.0.0)\n",
            "Requirement already satisfied: cmake in /usr/local/lib/python3.10/dist-packages (from triton==2.0.0->torch>=1.8.1->torchmetrics) (3.25.2)\n",
            "Requirement already satisfied: lit in /usr/local/lib/python3.10/dist-packages (from triton==2.0.0->torch>=1.8.1->torchmetrics) (16.0.5)\n",
            "Requirement already satisfied: MarkupSafe>=2.0 in /usr/local/lib/python3.10/dist-packages (from jinja2->torch>=1.8.1->torchmetrics) (2.1.2)\n",
            "Requirement already satisfied: mpmath>=0.19 in /usr/local/lib/python3.10/dist-packages (from sympy->torch>=1.8.1->torchmetrics) (1.3.0)\n",
            "Installing collected packages: torchmetrics\n",
            "Successfully installed torchmetrics-0.11.4\n"
          ]
        }
      ]
    },
    {
      "cell_type": "code",
      "source": [],
      "metadata": {
        "id": "M-dqAqsOD7LU"
      },
      "execution_count": null,
      "outputs": []
    },
    {
      "cell_type": "code",
      "source": [
        "import torch\n",
        "import torch.nn as nn\n",
        "import sklearn\n",
        "import numpy as np\n",
        "import pandas as pd\n",
        "import torchmetrics\n",
        "import torch.nn.functional as F\n",
        "\n",
        "from sklearn.datasets import fetch_california_housing\n",
        "from sklearn.model_selection import train_test_split\n",
        "from sklearn.preprocessing import MinMaxScaler, StandardScaler\n",
        "from torch.utils.data import DataLoader, Dataset\n",
        "import matplotlib.pyplot as plt"
      ],
      "metadata": {
        "id": "GWjGlYaLCxLD"
      },
      "execution_count": 3,
      "outputs": []
    },
    {
      "cell_type": "code",
      "source": [
        "train_dataset = sklearn.datasets.fetch_california_housing()\n",
        "train_dataset"
      ],
      "metadata": {
        "colab": {
          "base_uri": "https://localhost:8080/"
        },
        "id": "cvIzMomRC2L2",
        "outputId": "5d5d1181-71a4-425f-c43c-7c43bd5ad5cf"
      },
      "execution_count": 4,
      "outputs": [
        {
          "output_type": "execute_result",
          "data": {
            "text/plain": [
              "{'data': array([[   8.3252    ,   41.        ,    6.98412698, ...,    2.55555556,\n",
              "           37.88      , -122.23      ],\n",
              "        [   8.3014    ,   21.        ,    6.23813708, ...,    2.10984183,\n",
              "           37.86      , -122.22      ],\n",
              "        [   7.2574    ,   52.        ,    8.28813559, ...,    2.80225989,\n",
              "           37.85      , -122.24      ],\n",
              "        ...,\n",
              "        [   1.7       ,   17.        ,    5.20554273, ...,    2.3256351 ,\n",
              "           39.43      , -121.22      ],\n",
              "        [   1.8672    ,   18.        ,    5.32951289, ...,    2.12320917,\n",
              "           39.43      , -121.32      ],\n",
              "        [   2.3886    ,   16.        ,    5.25471698, ...,    2.61698113,\n",
              "           39.37      , -121.24      ]]),\n",
              " 'target': array([4.526, 3.585, 3.521, ..., 0.923, 0.847, 0.894]),\n",
              " 'frame': None,\n",
              " 'target_names': ['MedHouseVal'],\n",
              " 'feature_names': ['MedInc',\n",
              "  'HouseAge',\n",
              "  'AveRooms',\n",
              "  'AveBedrms',\n",
              "  'Population',\n",
              "  'AveOccup',\n",
              "  'Latitude',\n",
              "  'Longitude'],\n",
              " 'DESCR': '.. _california_housing_dataset:\\n\\nCalifornia Housing dataset\\n--------------------------\\n\\n**Data Set Characteristics:**\\n\\n    :Number of Instances: 20640\\n\\n    :Number of Attributes: 8 numeric, predictive attributes and the target\\n\\n    :Attribute Information:\\n        - MedInc        median income in block group\\n        - HouseAge      median house age in block group\\n        - AveRooms      average number of rooms per household\\n        - AveBedrms     average number of bedrooms per household\\n        - Population    block group population\\n        - AveOccup      average number of household members\\n        - Latitude      block group latitude\\n        - Longitude     block group longitude\\n\\n    :Missing Attribute Values: None\\n\\nThis dataset was obtained from the StatLib repository.\\nhttps://www.dcc.fc.up.pt/~ltorgo/Regression/cal_housing.html\\n\\nThe target variable is the median house value for California districts,\\nexpressed in hundreds of thousands of dollars ($100,000).\\n\\nThis dataset was derived from the 1990 U.S. census, using one row per census\\nblock group. A block group is the smallest geographical unit for which the U.S.\\nCensus Bureau publishes sample data (a block group typically has a population\\nof 600 to 3,000 people).\\n\\nA household is a group of people residing within a home. Since the average\\nnumber of rooms and bedrooms in this dataset are provided per household, these\\ncolumns may take surprisingly large values for block groups with few households\\nand many empty houses, such as vacation resorts.\\n\\nIt can be downloaded/loaded using the\\n:func:`sklearn.datasets.fetch_california_housing` function.\\n\\n.. topic:: References\\n\\n    - Pace, R. Kelley and Ronald Barry, Sparse Spatial Autoregressions,\\n      Statistics and Probability Letters, 33 (1997) 291-297\\n'}"
            ]
          },
          "metadata": {},
          "execution_count": 4
        }
      ]
    },
    {
      "cell_type": "code",
      "source": [
        "data = train_dataset.data\n",
        "target = train_dataset.target"
      ],
      "metadata": {
        "id": "Hefywat_C4xX"
      },
      "execution_count": 5,
      "outputs": []
    },
    {
      "cell_type": "code",
      "source": [
        "X_train, X_test, y_train, y_test = train_test_split(data, target, test_size=0.25, random_state=13)"
      ],
      "metadata": {
        "id": "_T6r6hgHC6qB"
      },
      "execution_count": 6,
      "outputs": []
    },
    {
      "cell_type": "code",
      "source": [
        "# сделаем стандарт-скейлер так как это задача регрессии и мин-макс скейлер будет хуже работать\n",
        "\n",
        "scaler = MinMaxScaler()\n",
        "# scaler = StandardScaler()\n",
        "\n",
        "X_train = scaler.fit_transform(X_train)\n",
        "X_test = scaler.transform(X_test)\n",
        "y_train = np.array(y_train)\n",
        "y_test = np.array(y_test)"
      ],
      "metadata": {
        "id": "HBRwphdwC8hk"
      },
      "execution_count": 7,
      "outputs": []
    },
    {
      "cell_type": "code",
      "source": [
        "class MyOwnCH(Dataset):\n",
        "    \n",
        "    def __init__(self, X_data, y_data):\n",
        "        self.X_data = X_data\n",
        "        self.y_data = y_data\n",
        "        \n",
        "    def __getitem__(self, index):\n",
        "        return self.X_data[index], self.y_data[index]\n",
        "        \n",
        "    def __len__ (self):\n",
        "        return len(self.X_data)\n",
        "    \n",
        "    \n",
        "train_dataset = MyOwnCH(torch.from_numpy(X_train).float(), torch.from_numpy(y_train).float())\n",
        "test_dataset = MyOwnCH(torch.from_numpy(X_test).float(), torch.from_numpy(y_test).float())"
      ],
      "metadata": {
        "id": "o7lm0U9YC-k7"
      },
      "execution_count": 8,
      "outputs": []
    },
    {
      "cell_type": "code",
      "source": [
        "train_loader = DataLoader(dataset=train_dataset, batch_size=64, shuffle=True, drop_last=True, num_workers=0)\n",
        "test_loader = DataLoader(dataset=test_dataset, batch_size=8, shuffle=False, drop_last=True, num_workers=0)"
      ],
      "metadata": {
        "id": "vFfn_RcADAXs"
      },
      "execution_count": 9,
      "outputs": []
    },
    {
      "cell_type": "code",
      "source": [
        "class Perceptron(nn.Module):\n",
        "    def __init__(self, input_dim, output_dim, activation=\"relu\"):\n",
        "        super(Perceptron, self).__init__()\n",
        "        self.fc = nn.Linear(input_dim, output_dim)\n",
        "        self.activation = activation\n",
        "        \n",
        "    def forward(self, x):\n",
        "        x = self.fc(x)\n",
        "        if self.activation == \"relu\":\n",
        "            return F.relu(x)\n",
        "        if self.activation == \"sigmoid\":\n",
        "            return F.sigmoid(x)\n",
        "        raise RuntimeError\n",
        "        \n",
        "class FeedForward(nn.Module):\n",
        "    def __init__(self, input_dim, hidden_dim):\n",
        "        super(FeedForward, self).__init__()\n",
        "        self.bn1 = nn.BatchNorm1d(input_dim)\n",
        "        self.fc1 = Perceptron(input_dim, 2 * hidden_dim)\n",
        "        self.dp1 = nn.Dropout(0.25)\n",
        "        self.bn2 = nn.BatchNorm1d(2 * hidden_dim)\n",
        "        self.fc2 = Perceptron(2 * hidden_dim, hidden_dim)\n",
        "        self.dp2 = nn.Dropout(0.25)\n",
        "        self.bn3 = nn.BatchNorm1d(hidden_dim)\n",
        "        self.fc3 = Perceptron(hidden_dim, 1)\n",
        "        \n",
        "    def forward(self, x):\n",
        "        x = self.bn1(x)\n",
        "        x = self.fc1(x)\n",
        "        x = self.dp1(x)\n",
        "        x = self.bn2(x)\n",
        "        x = self.fc2(x)\n",
        "        x = self.dp2(x)\n",
        "        x = self.bn3(x)\n",
        "        x = self.fc3(x)\n",
        "        return x"
      ],
      "metadata": {
        "id": "t7oUg3QODCv5"
      },
      "execution_count": 10,
      "outputs": []
    },
    {
      "cell_type": "code",
      "source": [
        "def model_comparing(model, optimizer):    \n",
        "    \n",
        "    train_r2 = torchmetrics.R2Score()\n",
        "    test_r2 = torchmetrics.R2Score()\n",
        "\n",
        "    r2_train_list = []\n",
        "    r2_test_list = []\n",
        "    \n",
        "    for epoch in range(30):\n",
        "        \n",
        "        model.train()\n",
        "        \n",
        "        for i, data in enumerate(train_loader):\n",
        "            inputs, target = data[0], data[1]\n",
        "            optimizer.zero_grad()\n",
        "            outputs = model(inputs)\n",
        "            batch_r2 = train_r2(outputs.squeeze(), target)\n",
        "            # Рассчитываем лосс-функцию (функцию потерь)\n",
        "            loss = criterion(outputs.squeeze(), target)\n",
        "            loss.backward()\n",
        "            optimizer.step()\n",
        "        \n",
        "        model.eval()\n",
        "        \n",
        "        for i, data in enumerate(test_loader):\n",
        "            inputs, target = data[0], data[1]\n",
        "            outputs = model(inputs)\n",
        "            test_r2(outputs.squeeze(), target)\n",
        "\n",
        "        # total r2 over all training batches\n",
        "        total_train_r2 = train_r2.compute()\n",
        "        # total r2 over all training batches\n",
        "        total_test_r2 = test_r2.compute()\n",
        "        \n",
        "        r2_train_list.append(total_train_r2)\n",
        "        r2_test_list.append(total_test_r2)\n",
        "        print(f'Epoch {epoch+1}: r2_train = {total_train_r2}, r2_test = {total_test_r2}')\n",
        "\n",
        "        #reset for next epoch\n",
        "        train_r2.reset()\n",
        "        test_r2.reset()\n",
        "    \n",
        "    return r2_train_list, r2_test_list"
      ],
      "metadata": {
        "id": "FIGddS8zDFYJ"
      },
      "execution_count": 11,
      "outputs": []
    },
    {
      "cell_type": "code",
      "source": [
        "def metrics_view(r2_train_list, r2_test_list, optim):\n",
        "    \n",
        "    epoch = np.arange(1,31,1)\n",
        "    y_train = r2_train_list\n",
        "    y_test = r2_test_list\n",
        "    plt.plot(epoch, y_train, label='R2_train')\n",
        "    plt.plot(epoch, y_test, label='R2_test')\n",
        "    plt.title(f\"{optim}\")   \n",
        "    plt.ylabel('R2_score')   \n",
        "    plt.xlabel('epochs')   \n",
        "    plt.legend()\n",
        "    plt.show()"
      ],
      "metadata": {
        "id": "WKh4e0zSDNAY"
      },
      "execution_count": 12,
      "outputs": []
    },
    {
      "cell_type": "markdown",
      "source": [
        "#SGD\n"
      ],
      "metadata": {
        "id": "LYhwtHMKDPUv"
      }
    },
    {
      "cell_type": "code",
      "source": [
        "model = FeedForward(8, 400)\n",
        "print(model)\n",
        "criterion = nn.MSELoss()\n",
        "optimizer = torch.optim.SGD(model.parameters(), lr=0.0005, momentum=0.0)\n",
        "r2_train_SGD, r2_test_SGD = model_comparing(model, optimizer)\n",
        "\n",
        "# optimizer = torch.optim.SGD(model.parameters(), lr=0.01)"
      ],
      "metadata": {
        "colab": {
          "base_uri": "https://localhost:8080/"
        },
        "id": "aUPeVIk0DT0s",
        "outputId": "6a9b868f-8344-4dc3-e0bc-11eaff0ea663"
      },
      "execution_count": 13,
      "outputs": [
        {
          "output_type": "stream",
          "name": "stdout",
          "text": [
            "FeedForward(\n",
            "  (bn1): BatchNorm1d(8, eps=1e-05, momentum=0.1, affine=True, track_running_stats=True)\n",
            "  (fc1): Perceptron(\n",
            "    (fc): Linear(in_features=8, out_features=800, bias=True)\n",
            "  )\n",
            "  (dp1): Dropout(p=0.25, inplace=False)\n",
            "  (bn2): BatchNorm1d(800, eps=1e-05, momentum=0.1, affine=True, track_running_stats=True)\n",
            "  (fc2): Perceptron(\n",
            "    (fc): Linear(in_features=800, out_features=400, bias=True)\n",
            "  )\n",
            "  (dp2): Dropout(p=0.25, inplace=False)\n",
            "  (bn3): BatchNorm1d(400, eps=1e-05, momentum=0.1, affine=True, track_running_stats=True)\n",
            "  (fc3): Perceptron(\n",
            "    (fc): Linear(in_features=400, out_features=1, bias=True)\n",
            "  )\n",
            ")\n",
            "Epoch 1: r2_train = -0.9155299663543701, r2_test = -0.26685285568237305\n",
            "Epoch 2: r2_train = -0.3005037307739258, r2_test = -0.053232669830322266\n",
            "Epoch 3: r2_train = -0.1383044719696045, r2_test = 0.08463561534881592\n",
            "Epoch 4: r2_train = -0.046471595764160156, r2_test = 0.11255818605422974\n",
            "Epoch 5: r2_train = 0.0114327073097229, r2_test = 0.24320143461227417\n",
            "Epoch 6: r2_train = 0.06891411542892456, r2_test = 0.2406245470046997\n",
            "Epoch 7: r2_train = 0.09276390075683594, r2_test = 0.20260488986968994\n",
            "Epoch 8: r2_train = 0.12476330995559692, r2_test = 0.3096649646759033\n",
            "Epoch 9: r2_train = 0.14916956424713135, r2_test = 0.33134156465530396\n",
            "Epoch 10: r2_train = 0.1728021502494812, r2_test = 0.3096834421157837\n",
            "Epoch 11: r2_train = 0.2205563187599182, r2_test = 0.37852007150650024\n",
            "Epoch 12: r2_train = 0.23947501182556152, r2_test = 0.35750412940979004\n",
            "Epoch 13: r2_train = 0.2678982615470886, r2_test = 0.35599344968795776\n",
            "Epoch 14: r2_train = 0.294758141040802, r2_test = 0.39237308502197266\n",
            "Epoch 15: r2_train = 0.3091059923171997, r2_test = 0.407481849193573\n",
            "Epoch 16: r2_train = 0.3337894678115845, r2_test = 0.4375830888748169\n",
            "Epoch 17: r2_train = 0.35392218828201294, r2_test = 0.44416528940200806\n",
            "Epoch 18: r2_train = 0.37429243326187134, r2_test = 0.4799235463142395\n",
            "Epoch 19: r2_train = 0.3914303779602051, r2_test = 0.48843610286712646\n",
            "Epoch 20: r2_train = 0.3964115381240845, r2_test = 0.46778130531311035\n",
            "Epoch 21: r2_train = 0.4105454087257385, r2_test = 0.4965848922729492\n",
            "Epoch 22: r2_train = 0.42301517724990845, r2_test = 0.5165518522262573\n",
            "Epoch 23: r2_train = 0.4258233904838562, r2_test = 0.5290111303329468\n",
            "Epoch 24: r2_train = 0.42927825450897217, r2_test = 0.5303544998168945\n",
            "Epoch 25: r2_train = 0.44238758087158203, r2_test = 0.5414230227470398\n",
            "Epoch 26: r2_train = 0.45445019006729126, r2_test = 0.5213911533355713\n",
            "Epoch 27: r2_train = 0.45114946365356445, r2_test = 0.5483033061027527\n",
            "Epoch 28: r2_train = 0.460377037525177, r2_test = 0.5327956676483154\n",
            "Epoch 29: r2_train = 0.4744004011154175, r2_test = 0.5586528182029724\n",
            "Epoch 30: r2_train = 0.4872483015060425, r2_test = 0.5234020948410034\n"
          ]
        }
      ]
    },
    {
      "cell_type": "code",
      "source": [
        "metrics_view(r2_train_SGD, r2_test_SGD, 'SGD')"
      ],
      "metadata": {
        "colab": {
          "base_uri": "https://localhost:8080/",
          "height": 472
        },
        "id": "77ApgvO3DWHI",
        "outputId": "7b1cecf7-6af7-4dc1-8e5d-f0985fe3ae26"
      },
      "execution_count": 14,
      "outputs": [
        {
          "output_type": "display_data",
          "data": {
            "text/plain": [
              "<Figure size 640x480 with 1 Axes>"
            ],
            "image/png": "[encoded data removed]"
          },
          "metadata": {}
        }
      ]
    },
    {
      "cell_type": "markdown",
      "source": [
        "#RMSprop"
      ],
      "metadata": {
        "id": "mZzbNlewDYLM"
      }
    },
    {
      "cell_type": "code",
      "source": [
        "model = FeedForward(8, 400)\n",
        "# print(model)\n",
        "criterion = nn.MSELoss()\n",
        "optimizer = torch.optim.RMSprop(model.parameters(), lr=0.0005)\n",
        "r2_train_RMSprop, r2_test_RMSprop = model_comparing(model, optimizer)"
      ],
      "metadata": {
        "colab": {
          "base_uri": "https://localhost:8080/"
        },
        "id": "pMWS4rRzDax9",
        "outputId": "e1d2ceff-1b1d-41c6-e4e0-fd13494b9d9d"
      },
      "execution_count": 15,
      "outputs": [
        {
          "output_type": "stream",
          "name": "stdout",
          "text": [
            "Epoch 1: r2_train = 0.2191796898841858, r2_test = 0.5169250965118408\n",
            "Epoch 2: r2_train = 0.493491530418396, r2_test = 0.5718495845794678\n",
            "Epoch 3: r2_train = 0.5682117938995361, r2_test = 0.6129109859466553\n",
            "Epoch 4: r2_train = 0.6090445518493652, r2_test = 0.6649378538131714\n",
            "Epoch 5: r2_train = 0.6273586750030518, r2_test = 0.6966460943222046\n",
            "Epoch 6: r2_train = 0.6413842439651489, r2_test = 0.6447936296463013\n",
            "Epoch 7: r2_train = 0.6508932113647461, r2_test = 0.7193080186843872\n",
            "Epoch 8: r2_train = 0.6576340198516846, r2_test = 0.7083730697631836\n",
            "Epoch 9: r2_train = 0.6670218706130981, r2_test = 0.718229353427887\n",
            "Epoch 10: r2_train = 0.6779001951217651, r2_test = 0.7415065765380859\n",
            "Epoch 11: r2_train = 0.6718568801879883, r2_test = 0.6883370876312256\n",
            "Epoch 12: r2_train = 0.675940752029419, r2_test = 0.6860432624816895\n",
            "Epoch 13: r2_train = 0.687673807144165, r2_test = 0.7410311698913574\n",
            "Epoch 14: r2_train = 0.688705325126648, r2_test = 0.6874452829360962\n",
            "Epoch 15: r2_train = 0.6972442269325256, r2_test = 0.727995753288269\n",
            "Epoch 16: r2_train = 0.6935124397277832, r2_test = 0.6624614000320435\n",
            "Epoch 17: r2_train = 0.7041246294975281, r2_test = 0.7347164154052734\n",
            "Epoch 18: r2_train = 0.711337685585022, r2_test = 0.7651580572128296\n",
            "Epoch 19: r2_train = 0.7063948512077332, r2_test = 0.7433151006698608\n",
            "Epoch 20: r2_train = 0.7159081697463989, r2_test = 0.7356131672859192\n",
            "Epoch 21: r2_train = 0.7216386795043945, r2_test = 0.7494720220565796\n",
            "Epoch 22: r2_train = 0.7230319380760193, r2_test = 0.7578168511390686\n",
            "Epoch 23: r2_train = 0.7235638499259949, r2_test = 0.7502267360687256\n",
            "Epoch 24: r2_train = 0.7271746397018433, r2_test = 0.7009629011154175\n",
            "Epoch 25: r2_train = 0.728827953338623, r2_test = 0.733007550239563\n",
            "Epoch 26: r2_train = 0.7360734939575195, r2_test = 0.7355741262435913\n",
            "Epoch 27: r2_train = 0.7318416833877563, r2_test = 0.7608919739723206\n",
            "Epoch 28: r2_train = 0.7355020046234131, r2_test = 0.7653554677963257\n",
            "Epoch 29: r2_train = 0.7365176677703857, r2_test = 0.7496507167816162\n",
            "Epoch 30: r2_train = 0.738869309425354, r2_test = 0.758887767791748\n"
          ]
        }
      ]
    },
    {
      "cell_type": "code",
      "source": [
        "metrics_view(r2_train_RMSprop, r2_test_RMSprop, 'RMSprop')"
      ],
      "metadata": {
        "colab": {
          "base_uri": "https://localhost:8080/",
          "height": 472
        },
        "id": "0wiLLc1ZDc4O",
        "outputId": "d631d618-d229-4e65-9736-4da06fcd6a04"
      },
      "execution_count": 16,
      "outputs": [
        {
          "output_type": "display_data",
          "data": {
            "text/plain": [
              "<Figure size 640x480 with 1 Axes>"
            ],
            "image/png": "[encoded data removed]"
          },
          "metadata": {}
        }
      ]
    },
    {
      "cell_type": "markdown",
      "source": [
        "#ADAM"
      ],
      "metadata": {
        "id": "kDHqVIbyDet1"
      }
    },
    {
      "cell_type": "code",
      "source": [
        "model = FeedForward(8, 400)\n",
        "# print(model)\n",
        "criterion = nn.MSELoss()\n",
        "optimizer = torch.optim.Adam(model.parameters(), lr=0.0005)\n",
        "r2_train_Adam, r2_test_Adam = model_comparing(model, optimizer)"
      ],
      "metadata": {
        "colab": {
          "base_uri": "https://localhost:8080/"
        },
        "id": "6QEMssxCDhtr",
        "outputId": "b7c0d6bd-6a11-4884-be6f-6b6164be5e42"
      },
      "execution_count": 17,
      "outputs": [
        {
          "output_type": "stream",
          "name": "stdout",
          "text": [
            "Epoch 1: r2_train = -0.024416089057922363, r2_test = 0.3840200901031494\n",
            "Epoch 2: r2_train = 0.41534364223480225, r2_test = 0.553415060043335\n",
            "Epoch 3: r2_train = 0.5327067375183105, r2_test = 0.6266765594482422\n",
            "Epoch 4: r2_train = 0.5828343629837036, r2_test = 0.6727108359336853\n",
            "Epoch 5: r2_train = 0.6154495477676392, r2_test = 0.6808849573135376\n",
            "Epoch 6: r2_train = 0.6379179954528809, r2_test = 0.6615248322486877\n",
            "Epoch 7: r2_train = 0.6584374904632568, r2_test = 0.6772515177726746\n",
            "Epoch 8: r2_train = 0.6500844359397888, r2_test = 0.6851692199707031\n",
            "Epoch 9: r2_train = 0.666400134563446, r2_test = 0.7186592817306519\n",
            "Epoch 10: r2_train = 0.6684495210647583, r2_test = 0.698256254196167\n",
            "Epoch 11: r2_train = 0.6732255816459656, r2_test = 0.7032532691955566\n",
            "Epoch 12: r2_train = 0.6796650290489197, r2_test = 0.7277594804763794\n",
            "Epoch 13: r2_train = 0.6933430433273315, r2_test = 0.7245461344718933\n",
            "Epoch 14: r2_train = 0.6951537132263184, r2_test = 0.6622493863105774\n",
            "Epoch 15: r2_train = 0.695464015007019, r2_test = 0.7310744524002075\n",
            "Epoch 16: r2_train = 0.7034682035446167, r2_test = 0.6591198444366455\n",
            "Epoch 17: r2_train = 0.7070960998535156, r2_test = 0.750352144241333\n",
            "Epoch 18: r2_train = 0.7121886014938354, r2_test = 0.688181459903717\n",
            "Epoch 19: r2_train = 0.7191498279571533, r2_test = 0.7477332353591919\n",
            "Epoch 20: r2_train = 0.7194455862045288, r2_test = 0.7086113095283508\n",
            "Epoch 21: r2_train = 0.7206436395645142, r2_test = 0.7206693887710571\n",
            "Epoch 22: r2_train = 0.7241909503936768, r2_test = 0.7461302876472473\n",
            "Epoch 23: r2_train = 0.724062442779541, r2_test = 0.7581974267959595\n",
            "Epoch 24: r2_train = 0.7291162014007568, r2_test = 0.7502179741859436\n",
            "Epoch 25: r2_train = 0.7332073450088501, r2_test = 0.7014212608337402\n",
            "Epoch 26: r2_train = 0.729071319103241, r2_test = 0.7379239797592163\n",
            "Epoch 27: r2_train = 0.7340165376663208, r2_test = 0.741457462310791\n",
            "Epoch 28: r2_train = 0.7371803522109985, r2_test = 0.7510115504264832\n",
            "Epoch 29: r2_train = 0.7349207401275635, r2_test = 0.6766372919082642\n",
            "Epoch 30: r2_train = 0.7382884621620178, r2_test = 0.7337467670440674\n"
          ]
        }
      ]
    },
    {
      "cell_type": "code",
      "source": [
        "metrics_view(r2_train_Adam, r2_test_Adam, 'Adam')"
      ],
      "metadata": {
        "colab": {
          "base_uri": "https://localhost:8080/",
          "height": 472
        },
        "id": "a8BGsmVaDjie",
        "outputId": "6046b680-07e7-46bd-eeec-563d27fdb56c"
      },
      "execution_count": 18,
      "outputs": [
        {
          "output_type": "display_data",
          "data": {
            "text/plain": [
              "<Figure size 640x480 with 1 Axes>"
            ],
            "image/png": "[encoded data removed]"
          },
          "metadata": {}
        }
      ]
    },
    {
      "cell_type": "markdown",
      "source": [
        "#Сравнение метрик"
      ],
      "metadata": {
        "id": "zNUtEFViDlZJ"
      }
    },
    {
      "cell_type": "code",
      "source": [
        "metrics_result = pd.DataFrame([{'r2_train': r2_train_SGD[-1].item(), 'r2_test': r2_test_SGD[-1].item()},\n",
        "                               {'r2_train': r2_train_RMSprop[-1].item(), 'r2_test': r2_test_RMSprop[-1].item()},\n",
        "                               {'r2_train': r2_train_Adam[-1].item(), 'r2_test': r2_test_Adam[-1].item()},\n",
        "                              ],\n",
        "                              index = ['SGD', 'RMSprop', 'Adam'], \n",
        "                              columns = ['r2_train', 'r2_test'])\n",
        "\n",
        "metrics_result.sort_values(by='r2_test', ascending=False)"
      ],
      "metadata": {
        "colab": {
          "base_uri": "https://localhost:8080/",
          "height": 143
        },
        "id": "0om0AILeDoPJ",
        "outputId": "7063ad17-a992-4b6d-a6b0-149eb1208dd4"
      },
      "execution_count": 19,
      "outputs": [
        {
          "output_type": "execute_result",
          "data": {
            "text/plain": [
              "         r2_train   r2_test\n",
              "RMSprop  0.738869  0.758888\n",
              "Adam     0.738288  0.733747\n",
              "SGD      0.487248  0.523402"
            ],
            "text/html": [
              "\n",
              "  <div id=\"df-1b394b65-b4cc-474e-b015-ddfe409fe1a1\">\n",
              "    <div class=\"colab-df-container\">\n",
              "      <div>\n",
              "<style scoped>\n",
              "    .dataframe tbody tr th:only-of-type {\n",
              "        vertical-align: middle;\n",
              "    }\n",
              "\n",
              "    .dataframe tbody tr th {\n",
              "        vertical-align: top;\n",
              "    }\n",
              "\n",
              "    .dataframe thead th {\n",
              "        text-align: right;\n",
              "    }\n",
              "</style>\n",
              "<table border=\"1\" class=\"dataframe\">\n",
              "  <thead>\n",
              "    <tr style=\"text-align: right;\">\n",
              "      <th></th>\n",
              "      <th>r2_train</th>\n",
              "      <th>r2_test</th>\n",
              "    </tr>\n",
              "  </thead>\n",
              "  <tbody>\n",
              "    <tr>\n",
              "      <th>RMSprop</th>\n",
              "      <td>0.738869</td>\n",
              "      <td>0.758888</td>\n",
              "    </tr>\n",
              "    <tr>\n",
              "      <th>Adam</th>\n",
              "      <td>0.738288</td>\n",
              "      <td>0.733747</td>\n",
              "    </tr>\n",
              "    <tr>\n",
              "      <th>SGD</th>\n",
              "      <td>0.487248</td>\n",
              "      <td>0.523402</td>\n",
              "    </tr>\n",
              "  </tbody>\n",
              "</table>\n",
              "</div>\n",
              "      <button class=\"colab-df-convert\" onclick=\"convertToInteractive('df-1b394b65-b4cc-474e-b015-ddfe409fe1a1')\"\n",
              "              title=\"Convert this dataframe to an interactive table.\"\n",
              "              style=\"display:none;\">\n",
              "        \n",
              "  <svg xmlns=\"http://www.w3.org/2000/svg\" height=\"24px\"viewBox=\"0 0 24 24\"\n",
              "       width=\"24px\">\n",
              "    <path d=\"M0 0h24v24H0V0z\" fill=\"none\"/>\n",
              "    <path d=\"M18.56 5.44l.94 2.06.94-2.06 2.06-.94-2.06-.94-.94-2.06-.94 2.06-2.06.94zm-11 1L8.5 8.5l.94-2.06 2.06-.94-2.06-.94L8.5 2.5l-.94 2.06-2.06.94zm10 10l.94 2.06.94-2.06 2.06-.94-2.06-.94-.94-2.06-.94 2.06-2.06.94z\"/><path d=\"M17.41 7.96l-1.37-1.37c-.4-.4-.92-.59-1.43-.59-.52 0-1.04.2-1.43.59L10.3 9.45l-7.72 7.72c-.78.78-.78 2.05 0 2.83L4 21.41c.39.39.9.59 1.41.59.51 0 1.02-.2 1.41-.59l7.78-7.78 2.81-2.81c.8-.78.8-2.07 0-2.86zM5.41 20L4 18.59l7.72-7.72 1.47 1.35L5.41 20z\"/>\n",
              "  </svg>\n",
              "      </button>\n",
              "      \n",
              "  <style>\n",
              "    .colab-df-container {\n",
              "      display:flex;\n",
              "      flex-wrap:wrap;\n",
              "      gap: 12px;\n",
              "    }\n",
              "\n",
              "    .colab-df-convert {\n",
              "      background-color: #E8F0FE;\n",
              "      border: none;\n",
              "      border-radius: 50%;\n",
              "      cursor: pointer;\n",
              "      display: none;\n",
              "      fill: #1967D2;\n",
              "      height: 32px;\n",
              "      padding: 0 0 0 0;\n",
              "      width: 32px;\n",
              "    }\n",
              "\n",
              "    .colab-df-convert:hover {\n",
              "      background-color: #E2EBFA;\n",
              "      box-shadow: 0px 1px 2px rgba(60, 64, 67, 0.3), 0px 1px 3px 1px rgba(60, 64, 67, 0.15);\n",
              "      fill: #174EA6;\n",
              "    }\n",
              "\n",
              "    [theme=dark] .colab-df-convert {\n",
              "      background-color: #3B4455;\n",
              "      fill: #D2E3FC;\n",
              "    }\n",
              "\n",
              "    [theme=dark] .colab-df-convert:hover {\n",
              "      background-color: #434B5C;\n",
              "      box-shadow: 0px 1px 3px 1px rgba(0, 0, 0, 0.15);\n",
              "      filter: drop-shadow(0px 1px 2px rgba(0, 0, 0, 0.3));\n",
              "      fill: #FFFFFF;\n",
              "    }\n",
              "  </style>\n",
              "\n",
              "      <script>\n",
              "        const buttonEl =\n",
              "          document.querySelector('#df-1b394b65-b4cc-474e-b015-ddfe409fe1a1 button.colab-df-convert');\n",
              "        buttonEl.style.display =\n",
              "          google.colab.kernel.accessAllowed ? 'block' : 'none';\n",
              "\n",
              "        async function convertToInteractive(key) {\n",
              "          const element = document.querySelector('#df-1b394b65-b4cc-474e-b015-ddfe409fe1a1');\n",
              "          const dataTable =\n",
              "            await google.colab.kernel.invokeFunction('convertToInteractive',\n",
              "                                                     [key], {});\n",
              "          if (!dataTable) return;\n",
              "\n",
              "          const docLinkHtml = 'Like what you see? Visit the ' +\n",
              "            '<a target=\"_blank\" href=https://colab.research.google.com/notebooks/data_table.ipynb>data table notebook</a>'\n",
              "            + ' to learn more about interactive tables.';\n",
              "          element.innerHTML = '';\n",
              "          dataTable['output_type'] = 'display_data';\n",
              "          await google.colab.output.renderOutput(dataTable, element);\n",
              "          const docLink = document.createElement('div');\n",
              "          docLink.innerHTML = docLinkHtml;\n",
              "          element.appendChild(docLink);\n",
              "        }\n",
              "      </script>\n",
              "    </div>\n",
              "  </div>\n",
              "  "
            ]
          },
          "metadata": {},
          "execution_count": 19
        }
      ]
    },
    {
      "cell_type": "markdown",
      "source": [
        "#Вывод:\n",
        "\n",
        "Алгоримт SGD долго сходится - но достаточно стабильно. Ему требуется больше эпох, чтобы прийти к значениям метрик, которые достигаются другими алгоритмами значительно быстрее.\n",
        "\n",
        "Алгоритмы Adam и RMSprop сходятся примерно одинаково. И быстрее чем SGD."
      ],
      "metadata": {
        "id": "hu95I-swDq-O"
      }
    }
  ]
}