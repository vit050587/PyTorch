{
  "nbformat": 4,
  "nbformat_minor": 0,
  "metadata": {
    "colab": {
      "provenance": [],
      "mount_file_id": "16OKfUWQPCgXMMxwAHEZYvGWBT2RVwl21",
      "authorship_tag": "ABX9TyNQF+w0wYYuQSfbos5Jr2/R",
      "include_colab_link": true
    },
    "kernelspec": {
      "name": "python3",
      "display_name": "Python 3"
    },
    "language_info": {
      "name": "python"
    }
  },
  "cells": [
    {
      "cell_type": "markdown",
      "metadata": {
        "id": "view-in-github",
        "colab_type": "text"
      },
      "source": [
        "<a href=\"https://colab.research.google.com/github/vit050587/PyTorch/blob/master/KVA_PYTORCH_HW_06.ipynb\" target=\"_parent\"><img src=\"https://colab.research.google.com/assets/colab-badge.svg\" alt=\"Open In Colab\"/></a>"
      ]
    },
    {
      "cell_type": "markdown",
      "source": [
        "# Урок 6. Нейросети в обработке текста\n",
        "Попробуйте обучить нейронную сеть с применением одномерных сверток для предсказания сентимента сообщений с твитера на примере https://www.kaggle.com/datasets/arkhoshghalb/twitter-sentiment-analysis-hatred-speech\n",
        "\n",
        "Опишите какой результат вы получили? Что помогло вам улучшить ее точность?"
      ],
      "metadata": {
        "id": "kfkSSBMhkaoI"
      }
    },
    {
      "cell_type": "code",
      "execution_count": 20,
      "metadata": {
        "colab": {
          "base_uri": "https://localhost:8080/"
        },
        "id": "9C5W0HpxkTVB",
        "outputId": "6ea764eb-1259-43d9-80de-e75abe78b118"
      },
      "outputs": [
        {
          "output_type": "stream",
          "name": "stdout",
          "text": [
            "Looking in indexes: https://pypi.org/simple, https://us-python.pkg.dev/colab-wheels/public/simple/\n",
            "Requirement already satisfied: stop-words in /usr/local/lib/python3.10/dist-packages (2018.7.23)\n",
            "Requirement already satisfied: pymorphy2 in /usr/local/lib/python3.10/dist-packages (0.9.1)\n",
            "Requirement already satisfied: dawg-python>=0.7.1 in /usr/local/lib/python3.10/dist-packages (from pymorphy2) (0.7.2)\n",
            "Requirement already satisfied: pymorphy2-dicts-ru<3.0,>=2.4 in /usr/local/lib/python3.10/dist-packages (from pymorphy2) (2.4.417127.4579844)\n",
            "Requirement already satisfied: docopt>=0.6 in /usr/local/lib/python3.10/dist-packages (from pymorphy2) (0.6.2)\n"
          ]
        }
      ],
      "source": [
        "!pip install stop-words pymorphy2"
      ]
    },
    {
      "cell_type": "code",
      "source": [
        "import pandas as pd\n",
        "import numpy as np\n",
        "import torch\n",
        "import torch.nn as nn\n",
        "import torch.nn.functional as F\n",
        "\n",
        "from torch.utils.data import DataLoader, Dataset\n",
        "from sklearn.model_selection import train_test_split\n",
        "\n",
        "#import nltk\n",
        "#from nltk.tokenize import word_tokenize\n",
        "#from nltk.stem import WordNetLemmatizer\n",
        "#nltk.download('wordnet')\n",
        "#nltk.download(\"punkt\")\n",
        "\n",
        "from string import punctuation\n",
        "from stop_words import get_stop_words\n",
        "# from pymorphy2 import MorphAnalyzer\n",
        "\n",
        "import re"
      ],
      "metadata": {
        "id": "3-u9GPKElCva"
      },
      "execution_count": 27,
      "outputs": []
    },
    {
      "cell_type": "code",
      "source": [
        "max_words = 1000\n",
        "max_len = 10\n",
        "num_classes = 1\n",
        "\n",
        "epochs = 15\n",
        "batch_size = 512\n",
        "print_batch_n = 100"
      ],
      "metadata": {
        "id": "UNMDdmMklE50"
      },
      "execution_count": 22,
      "outputs": []
    },
    {
      "cell_type": "code",
      "source": [
        "train_df = pd.read_csv('/content/drive/MyDrive/Colab Notebooks/PyTorch/lesson06/train.csv')\n",
        "test_df = pd.read_csv('/content/drive/MyDrive/Colab Notebooks/PyTorch/lesson06/test.csv')"
      ],
      "metadata": {
        "id": "TAnDtGttlG4J"
      },
      "execution_count": 30,
      "outputs": []
    },
    {
      "cell_type": "code",
      "source": [
        "train_df.head()"
      ],
      "metadata": {
        "colab": {
          "base_uri": "https://localhost:8080/",
          "height": 206
        },
        "id": "LnJ4h_J424yA",
        "outputId": "bafe60be-7184-45c0-b43c-b5192fc79f80"
      },
      "execution_count": 31,
      "outputs": [
        {
          "output_type": "execute_result",
          "data": {
            "text/plain": [
              "   id  label                                              tweet\n",
              "0   1      0   @user when a father is dysfunctional and is s...\n",
              "1   2      0  @user @user thanks for #lyft credit i can't us...\n",
              "2   3      0                                bihday your majesty\n",
              "3   4      0  #model   i love u take with u all the time in ...\n",
              "4   5      0             factsguide: society now    #motivation"
            ],
            "text/html": [
              "\n",
              "  <div id=\"df-849b4800-8785-43e6-b92a-ce7bfae44c75\">\n",
              "    <div class=\"colab-df-container\">\n",
              "      <div>\n",
              "<style scoped>\n",
              "    .dataframe tbody tr th:only-of-type {\n",
              "        vertical-align: middle;\n",
              "    }\n",
              "\n",
              "    .dataframe tbody tr th {\n",
              "        vertical-align: top;\n",
              "    }\n",
              "\n",
              "    .dataframe thead th {\n",
              "        text-align: right;\n",
              "    }\n",
              "</style>\n",
              "<table border=\"1\" class=\"dataframe\">\n",
              "  <thead>\n",
              "    <tr style=\"text-align: right;\">\n",
              "      <th></th>\n",
              "      <th>id</th>\n",
              "      <th>label</th>\n",
              "      <th>tweet</th>\n",
              "    </tr>\n",
              "  </thead>\n",
              "  <tbody>\n",
              "    <tr>\n",
              "      <th>0</th>\n",
              "      <td>1</td>\n",
              "      <td>0</td>\n",
              "      <td>@user when a father is dysfunctional and is s...</td>\n",
              "    </tr>\n",
              "    <tr>\n",
              "      <th>1</th>\n",
              "      <td>2</td>\n",
              "      <td>0</td>\n",
              "      <td>@user @user thanks for #lyft credit i can't us...</td>\n",
              "    </tr>\n",
              "    <tr>\n",
              "      <th>2</th>\n",
              "      <td>3</td>\n",
              "      <td>0</td>\n",
              "      <td>bihday your majesty</td>\n",
              "    </tr>\n",
              "    <tr>\n",
              "      <th>3</th>\n",
              "      <td>4</td>\n",
              "      <td>0</td>\n",
              "      <td>#model   i love u take with u all the time in ...</td>\n",
              "    </tr>\n",
              "    <tr>\n",
              "      <th>4</th>\n",
              "      <td>5</td>\n",
              "      <td>0</td>\n",
              "      <td>factsguide: society now    #motivation</td>\n",
              "    </tr>\n",
              "  </tbody>\n",
              "</table>\n",
              "</div>\n",
              "      <button class=\"colab-df-convert\" onclick=\"convertToInteractive('df-849b4800-8785-43e6-b92a-ce7bfae44c75')\"\n",
              "              title=\"Convert this dataframe to an interactive table.\"\n",
              "              style=\"display:none;\">\n",
              "        \n",
              "  <svg xmlns=\"http://www.w3.org/2000/svg\" height=\"24px\"viewBox=\"0 0 24 24\"\n",
              "       width=\"24px\">\n",
              "    <path d=\"M0 0h24v24H0V0z\" fill=\"none\"/>\n",
              "    <path d=\"M18.56 5.44l.94 2.06.94-2.06 2.06-.94-2.06-.94-.94-2.06-.94 2.06-2.06.94zm-11 1L8.5 8.5l.94-2.06 2.06-.94-2.06-.94L8.5 2.5l-.94 2.06-2.06.94zm10 10l.94 2.06.94-2.06 2.06-.94-2.06-.94-.94-2.06-.94 2.06-2.06.94z\"/><path d=\"M17.41 7.96l-1.37-1.37c-.4-.4-.92-.59-1.43-.59-.52 0-1.04.2-1.43.59L10.3 9.45l-7.72 7.72c-.78.78-.78 2.05 0 2.83L4 21.41c.39.39.9.59 1.41.59.51 0 1.02-.2 1.41-.59l7.78-7.78 2.81-2.81c.8-.78.8-2.07 0-2.86zM5.41 20L4 18.59l7.72-7.72 1.47 1.35L5.41 20z\"/>\n",
              "  </svg>\n",
              "      </button>\n",
              "      \n",
              "  <style>\n",
              "    .colab-df-container {\n",
              "      display:flex;\n",
              "      flex-wrap:wrap;\n",
              "      gap: 12px;\n",
              "    }\n",
              "\n",
              "    .colab-df-convert {\n",
              "      background-color: #E8F0FE;\n",
              "      border: none;\n",
              "      border-radius: 50%;\n",
              "      cursor: pointer;\n",
              "      display: none;\n",
              "      fill: #1967D2;\n",
              "      height: 32px;\n",
              "      padding: 0 0 0 0;\n",
              "      width: 32px;\n",
              "    }\n",
              "\n",
              "    .colab-df-convert:hover {\n",
              "      background-color: #E2EBFA;\n",
              "      box-shadow: 0px 1px 2px rgba(60, 64, 67, 0.3), 0px 1px 3px 1px rgba(60, 64, 67, 0.15);\n",
              "      fill: #174EA6;\n",
              "    }\n",
              "\n",
              "    [theme=dark] .colab-df-convert {\n",
              "      background-color: #3B4455;\n",
              "      fill: #D2E3FC;\n",
              "    }\n",
              "\n",
              "    [theme=dark] .colab-df-convert:hover {\n",
              "      background-color: #434B5C;\n",
              "      box-shadow: 0px 1px 3px 1px rgba(0, 0, 0, 0.15);\n",
              "      filter: drop-shadow(0px 1px 2px rgba(0, 0, 0, 0.3));\n",
              "      fill: #FFFFFF;\n",
              "    }\n",
              "  </style>\n",
              "\n",
              "      <script>\n",
              "        const buttonEl =\n",
              "          document.querySelector('#df-849b4800-8785-43e6-b92a-ce7bfae44c75 button.colab-df-convert');\n",
              "        buttonEl.style.display =\n",
              "          google.colab.kernel.accessAllowed ? 'block' : 'none';\n",
              "\n",
              "        async function convertToInteractive(key) {\n",
              "          const element = document.querySelector('#df-849b4800-8785-43e6-b92a-ce7bfae44c75');\n",
              "          const dataTable =\n",
              "            await google.colab.kernel.invokeFunction('convertToInteractive',\n",
              "                                                     [key], {});\n",
              "          if (!dataTable) return;\n",
              "\n",
              "          const docLinkHtml = 'Like what you see? Visit the ' +\n",
              "            '<a target=\"_blank\" href=https://colab.research.google.com/notebooks/data_table.ipynb>data table notebook</a>'\n",
              "            + ' to learn more about interactive tables.';\n",
              "          element.innerHTML = '';\n",
              "          dataTable['output_type'] = 'display_data';\n",
              "          await google.colab.output.renderOutput(dataTable, element);\n",
              "          const docLink = document.createElement('div');\n",
              "          docLink.innerHTML = docLinkHtml;\n",
              "          element.appendChild(docLink);\n",
              "        }\n",
              "      </script>\n",
              "    </div>\n",
              "  </div>\n",
              "  "
            ]
          },
          "metadata": {},
          "execution_count": 31
        }
      ]
    },
    {
      "cell_type": "code",
      "source": [
        "train_df.label.value_counts()"
      ],
      "metadata": {
        "colab": {
          "base_uri": "https://localhost:8080/"
        },
        "id": "EfheBkiHlNTJ",
        "outputId": "f3cbf37a-87c0-446b-b6b0-92eb1d6326ef"
      },
      "execution_count": 32,
      "outputs": [
        {
          "output_type": "execute_result",
          "data": {
            "text/plain": [
              "0    29720\n",
              "1     2242\n",
              "Name: label, dtype: int64"
            ]
          },
          "metadata": {},
          "execution_count": 32
        }
      ]
    },
    {
      "cell_type": "code",
      "source": [
        "X_train, X_valid = train_test_split(train_df, test_size=0.25, random_state=42)\n",
        "X_train.shape, X_valid.shape"
      ],
      "metadata": {
        "colab": {
          "base_uri": "https://localhost:8080/"
        },
        "id": "kwaICfVClPkj",
        "outputId": "4e05b5a0-a6da-49d7-a891-34960db28775"
      },
      "execution_count": 33,
      "outputs": [
        {
          "output_type": "execute_result",
          "data": {
            "text/plain": [
              "((23971, 3), (7991, 3))"
            ]
          },
          "metadata": {},
          "execution_count": 33
        }
      ]
    },
    {
      "cell_type": "code",
      "source": [
        "X_train.label.value_counts()"
      ],
      "metadata": {
        "colab": {
          "base_uri": "https://localhost:8080/"
        },
        "id": "AUA2gRJClRWr",
        "outputId": "a8b7d7fd-242b-4f67-ee7f-e9ecc8ba3a5e"
      },
      "execution_count": 34,
      "outputs": [
        {
          "output_type": "execute_result",
          "data": {
            "text/plain": [
              "0    22288\n",
              "1     1683\n",
              "Name: label, dtype: int64"
            ]
          },
          "metadata": {},
          "execution_count": 34
        }
      ]
    },
    {
      "cell_type": "code",
      "source": [
        "X_valid.label.value_counts()"
      ],
      "metadata": {
        "id": "4Gcmkko1lS4c",
        "colab": {
          "base_uri": "https://localhost:8080/"
        },
        "outputId": "bd315733-bc09-4cad-f7f0-f7a69e555220"
      },
      "execution_count": 35,
      "outputs": [
        {
          "output_type": "execute_result",
          "data": {
            "text/plain": [
              "0    7432\n",
              "1     559\n",
              "Name: label, dtype: int64"
            ]
          },
          "metadata": {},
          "execution_count": 35
        }
      ]
    },
    {
      "cell_type": "code",
      "source": [
        "sw = set(get_stop_words(\"en\"))\n",
        "# sw"
      ],
      "metadata": {
        "id": "oyht3VbAlVoM"
      },
      "execution_count": 36,
      "outputs": []
    },
    {
      "cell_type": "code",
      "source": [
        "puncts = set(punctuation)\n",
        "# puncts"
      ],
      "metadata": {
        "id": "0rh5T4zvlXVp"
      },
      "execution_count": 37,
      "outputs": []
    },
    {
      "cell_type": "code",
      "source": [
        "# morpher = MorphAnalyzer() # это для русского\n",
        "morpher = WordNetLemmatizer()\n",
        "morpher.lemmatize('dogs')"
      ],
      "metadata": {
        "id": "yi-qNPdzlZNt",
        "colab": {
          "base_uri": "https://localhost:8080/",
          "height": 35
        },
        "outputId": "32780c0b-c0c9-4870-fd5e-436805fe3cbf"
      },
      "execution_count": 38,
      "outputs": [
        {
          "output_type": "execute_result",
          "data": {
            "text/plain": [
              "'dog'"
            ],
            "application/vnd.google.colaboratory.intrinsic+json": {
              "type": "string"
            }
          },
          "metadata": {},
          "execution_count": 38
        }
      ]
    },
    {
      "cell_type": "code",
      "source": [
        "def preprocess_text(txt):\n",
        "    txt = str(txt)\n",
        "    txt = \"\".join(c for c in txt if c not in puncts)\n",
        "    txt = txt.lower()\n",
        "#     txt = re.sub(\"не\\s\", \"не\", txt)\n",
        "    txt = [morpher.lemmatize(word) for word in txt.split() if word not in sw]\n",
        "    return \" \".join(txt)"
      ],
      "metadata": {
        "id": "uUN5bopMlbRS"
      },
      "execution_count": 39,
      "outputs": []
    },
    {
      "cell_type": "code",
      "source": [
        "# train_df.tweet.iloc[:1].values"
      ],
      "metadata": {
        "id": "GXa8c6ipleCw"
      },
      "execution_count": 40,
      "outputs": []
    },
    {
      "cell_type": "code",
      "source": [
        "# train_df.tweet.iloc[:1].apply(preprocess_text).values"
      ],
      "metadata": {
        "id": "KeLdoaIhlfmp"
      },
      "execution_count": 41,
      "outputs": []
    },
    {
      "cell_type": "code",
      "source": [
        "from tqdm import tqdm\n",
        "tqdm.pandas()\n",
        "\n",
        "X_train.tweet = X_train.tweet.progress_apply(preprocess_text)\n",
        "X_valid.tweet = X_valid.tweet.progress_apply(preprocess_text)"
      ],
      "metadata": {
        "id": "Lq8gY6kklheF",
        "colab": {
          "base_uri": "https://localhost:8080/"
        },
        "outputId": "54246a2a-ba75-4f34-c3dd-58c97401a92f"
      },
      "execution_count": 42,
      "outputs": [
        {
          "output_type": "stream",
          "name": "stderr",
          "text": [
            "100%|██████████| 23971/23971 [00:01<00:00, 20077.51it/s]\n",
            "100%|██████████| 7991/7991 [00:00<00:00, 20254.55it/s]\n"
          ]
        }
      ]
    },
    {
      "cell_type": "code",
      "source": [
        "train_corpus = \" \".join(X_train.tweet)\n",
        "train_corpus = train_corpus.lower()\n",
        "tokens = word_tokenize(train_corpus)\n",
        "tokens[:5]"
      ],
      "metadata": {
        "id": "WHVfjdnIljr8",
        "colab": {
          "base_uri": "https://localhost:8080/"
        },
        "outputId": "e95e824b-5d05-43cd-de3a-3fec522e8777"
      },
      "execution_count": 43,
      "outputs": [
        {
          "output_type": "execute_result",
          "data": {
            "text/plain": [
              "['weekend', 'world', 'really', 'going', 'bonkers']"
            ]
          },
          "metadata": {},
          "execution_count": 43
        }
      ]
    },
    {
      "cell_type": "code",
      "source": [
        "# Отфильтруем данные и соберём в корпус N наиболее частых токенов\n",
        "tokens_filtered = [word for word in tokens if word.isalnum()]"
      ],
      "metadata": {
        "id": "9JpJAoSNllji"
      },
      "execution_count": 44,
      "outputs": []
    },
    {
      "cell_type": "code",
      "source": [
        "from nltk.probability import FreqDist\n",
        "\n",
        "dist = FreqDist(tokens_filtered)\n",
        "tokens_filtered_top = [pair[0] for pair in dist.most_common(max_words-1)]  # вычитание 1 для padding\n",
        "len(tokens_filtered_top)"
      ],
      "metadata": {
        "id": "021BELdulnbW",
        "colab": {
          "base_uri": "https://localhost:8080/"
        },
        "outputId": "76228bb6-0935-429e-c445-489f20523d91"
      },
      "execution_count": 45,
      "outputs": [
        {
          "output_type": "execute_result",
          "data": {
            "text/plain": [
              "999"
            ]
          },
          "metadata": {},
          "execution_count": 45
        }
      ]
    },
    {
      "cell_type": "code",
      "source": [
        "tokens_filtered_top[:10]"
      ],
      "metadata": {
        "id": "EwaYpeLBlpGV",
        "colab": {
          "base_uri": "https://localhost:8080/"
        },
        "outputId": "c7d79e0d-84fe-48eb-cbbc-cc5b5785df1a"
      },
      "execution_count": 46,
      "outputs": [
        {
          "output_type": "execute_result",
          "data": {
            "text/plain": [
              "['user', 'love', 'day', 'u', 'happy', 'amp', 'just', 'will', 'time', 'life']"
            ]
          },
          "metadata": {},
          "execution_count": 46
        }
      ]
    },
    {
      "cell_type": "code",
      "source": [
        "vocabulary = {v: k for k, v in dict(enumerate(tokens_filtered_top, 1)).items()}\n",
        "# vocabulary"
      ],
      "metadata": {
        "id": "6-blJQV3lqxE"
      },
      "execution_count": 47,
      "outputs": []
    },
    {
      "cell_type": "code",
      "source": [
        "def text_to_sequence(text, maxlen):\n",
        "\n",
        "    result = []\n",
        "    tokens = word_tokenize(text.lower())\n",
        "    tokens_filtered = [word for word in tokens if word.isalnum()] # проверка чтобы токен был либо буквенный либо символьный\n",
        "    for word in tokens_filtered:\n",
        "        if word in vocabulary:\n",
        "            result.append(vocabulary[word])\n",
        "\n",
        "    padding = [0] * (maxlen-len(result))\n",
        "\n",
        "    return result[-maxlen:] + padding"
      ],
      "metadata": {
        "id": "bAY5pC4Llscn"
      },
      "execution_count": 48,
      "outputs": []
    },
    {
      "cell_type": "code",
      "source": [
        "%%time\n",
        "\n",
        "x_train = np.asarray([text_to_sequence(text, max_len) for text in X_train.tweet])\n",
        "x_val = np.asarray([text_to_sequence(text, max_len) for text in X_valid.tweet])\n",
        "\n",
        "x_train.shape, x_val.shape"
      ],
      "metadata": {
        "id": "1thCGcl1lua_",
        "colab": {
          "base_uri": "https://localhost:8080/"
        },
        "outputId": "9d14ab25-4c9b-43e9-eb77-78749f1ea93b"
      },
      "execution_count": 49,
      "outputs": [
        {
          "output_type": "stream",
          "name": "stdout",
          "text": [
            "CPU times: user 3.42 s, sys: 9.83 ms, total: 3.43 s\n",
            "Wall time: 3.46 s\n"
          ]
        },
        {
          "output_type": "execute_result",
          "data": {
            "text/plain": [
              "((23971, 10), (7991, 10))"
            ]
          },
          "metadata": {},
          "execution_count": 49
        }
      ]
    },
    {
      "cell_type": "code",
      "source": [
        "train_df.tweet.iloc[0]"
      ],
      "metadata": {
        "id": "D2gYK3bmlwRq",
        "colab": {
          "base_uri": "https://localhost:8080/",
          "height": 35
        },
        "outputId": "6027360d-4e8b-4273-f424-484cb4fb823b"
      },
      "execution_count": 50,
      "outputs": [
        {
          "output_type": "execute_result",
          "data": {
            "text/plain": [
              "' @user when a father is dysfunctional and is so selfish he drags his kids into his dysfunction.   #run'"
            ],
            "application/vnd.google.colaboratory.intrinsic+json": {
              "type": "string"
            }
          },
          "metadata": {},
          "execution_count": 50
        }
      ]
    },
    {
      "cell_type": "code",
      "source": [
        "x_train[0]"
      ],
      "metadata": {
        "id": "3izdoXJglyG6",
        "colab": {
          "base_uri": "https://localhost:8080/"
        },
        "outputId": "410da720-c2f0-49eb-ff18-68caf9cbc4bd"
      },
      "execution_count": 51,
      "outputs": [
        {
          "output_type": "execute_result",
          "data": {
            "text/plain": [
              "array([35,  0,  0,  0,  0,  0,  0,  0,  0,  0])"
            ]
          },
          "metadata": {},
          "execution_count": 51
        }
      ]
    },
    {
      "cell_type": "code",
      "source": [
        "class Net(nn.Module):\n",
        "    def __init__(self, vocab_size=2000, embedding_dim=64, out_channel=64, num_classes=1):\n",
        "        super().__init__()\n",
        "        self.embedding = nn.Embedding(vocab_size, embedding_dim)\n",
        "        self.conv_1 = nn.Conv1d(embedding_dim, out_channel, kernel_size=2)\n",
        "        self.conv_2 = nn.Conv1d(embedding_dim, out_channel, kernel_size=3)\n",
        "        self.pool = nn.MaxPool1d(2)\n",
        "        self.relu = nn.ReLU()\n",
        "        self.linear_1 = nn.Linear(out_channel, out_channel // 2)\n",
        "        self.linear_2 = nn.Linear(out_channel // 2, num_classes)\n",
        "\n",
        "    def forward(self, x):\n",
        "        output = self.embedding(x) # B, L, E\n",
        "        #                       B  E  L\n",
        "        output = output.permute(0, 2, 1)\n",
        "        output = self.conv_1(output)\n",
        "        output = self.relu(output)\n",
        "        output = self.pool(output)\n",
        "\n",
        "        output = self.conv_2(output)\n",
        "        output = self.relu(output)\n",
        "        output = self.pool(output)\n",
        "        output = torch.max(output, axis=2).values\n",
        "        output = self.linear_1(output)\n",
        "        output = self.relu(output)\n",
        "        output = self.linear_2(output)\n",
        "        output = F.sigmoid(output)\n",
        "        return output"
      ],
      "metadata": {
        "id": "WxMiCMCklz9c"
      },
      "execution_count": 52,
      "outputs": []
    },
    {
      "cell_type": "code",
      "source": [
        "class DataWrapper(Dataset):\n",
        "    def __init__(self, data, target, transform=None):\n",
        "        self.data = torch.from_numpy(data).long() # если индексы инты то делать лучше лонг - иначе может сломаться вдруг -\n",
        "        # так как на инт меньше памяти выделяется на каждое значение и может переполниться\n",
        "        self.target = torch.from_numpy(target).long() # какие то ф-и потерь на интах не считается - а только на лонгах\n",
        "        self.transform = transform\n",
        "\n",
        "    def __getitem__(self, index):\n",
        "        x = self.data[index]\n",
        "        y = self.target[index]\n",
        "\n",
        "        if self.transform:\n",
        "            x = self.transform(x)\n",
        "\n",
        "        return x, y\n",
        "\n",
        "    def __len__(self):\n",
        "        return len(self.data)"
      ],
      "metadata": {
        "id": "9n11Ye-Gl2CD"
      },
      "execution_count": 53,
      "outputs": []
    },
    {
      "cell_type": "code",
      "source": [
        "train_dataset = DataWrapper(x_train, X_train.label.values)\n",
        "train_loader = DataLoader(train_dataset, batch_size=batch_size, shuffle=True)\n",
        "\n",
        "val_dataset = DataWrapper(x_val, X_valid.label.values)\n",
        "val_loader = DataLoader(val_dataset, batch_size=8, shuffle=True)"
      ],
      "metadata": {
        "id": "2iYKQekJl37v"
      },
      "execution_count": 54,
      "outputs": []
    },
    {
      "cell_type": "code",
      "source": [
        "train_loader.sampler"
      ],
      "metadata": {
        "id": "jHYSgHGYl50q",
        "colab": {
          "base_uri": "https://localhost:8080/"
        },
        "outputId": "8b4619d6-fdc3-4bc7-9ed0-c0c6b5e6c37a"
      },
      "execution_count": 55,
      "outputs": [
        {
          "output_type": "execute_result",
          "data": {
            "text/plain": [
              "<torch.utils.data.sampler.RandomSampler at 0x7fe0f6e7e650>"
            ]
          },
          "metadata": {},
          "execution_count": 55
        }
      ]
    },
    {
      "cell_type": "code",
      "source": [
        "for x, l in train_loader:\n",
        "    print(x.shape)\n",
        "    print(l.shape)\n",
        "    print(l[0])\n",
        "    break"
      ],
      "metadata": {
        "id": "DxC_ReCfl7oA",
        "colab": {
          "base_uri": "https://localhost:8080/"
        },
        "outputId": "2cdfe45f-7172-46dc-ad28-88eab50546fb"
      },
      "execution_count": 56,
      "outputs": [
        {
          "output_type": "stream",
          "name": "stdout",
          "text": [
            "torch.Size([512, 10])\n",
            "torch.Size([512])\n",
            "tensor(0)\n"
          ]
        }
      ]
    },
    {
      "cell_type": "code",
      "source": [
        "model = Net(vocab_size=max_words)\n",
        "\n",
        "device = 'cuda' if torch.cuda.is_available() else 'cpu'\n",
        "device"
      ],
      "metadata": {
        "id": "rSWWqgu7l9Qa",
        "colab": {
          "base_uri": "https://localhost:8080/",
          "height": 35
        },
        "outputId": "d3ea497b-5b00-446d-ab10-cb81d648299e"
      },
      "execution_count": 57,
      "outputs": [
        {
          "output_type": "execute_result",
          "data": {
            "text/plain": [
              "'cpu'"
            ],
            "application/vnd.google.colaboratory.intrinsic+json": {
              "type": "string"
            }
          },
          "metadata": {},
          "execution_count": 57
        }
      ]
    },
    {
      "cell_type": "code",
      "source": [
        "print(model)\n",
        "print(\"Parameters:\", sum([param.nelement() for param in model.parameters()]))"
      ],
      "metadata": {
        "id": "hDui6EYvl_lh",
        "colab": {
          "base_uri": "https://localhost:8080/"
        },
        "outputId": "6fddc2d3-9209-430e-f4d5-c8a53d11ea5b"
      },
      "execution_count": 58,
      "outputs": [
        {
          "output_type": "stream",
          "name": "stdout",
          "text": [
            "Net(\n",
            "  (embedding): Embedding(1000, 64)\n",
            "  (conv_1): Conv1d(64, 64, kernel_size=(2,), stride=(1,))\n",
            "  (conv_2): Conv1d(64, 64, kernel_size=(3,), stride=(1,))\n",
            "  (pool): MaxPool1d(kernel_size=2, stride=2, padding=0, dilation=1, ceil_mode=False)\n",
            "  (relu): ReLU()\n",
            "  (linear_1): Linear(in_features=64, out_features=32, bias=True)\n",
            "  (linear_2): Linear(in_features=32, out_features=1, bias=True)\n",
            ")\n",
            "Parameters: 86721\n"
          ]
        }
      ]
    },
    {
      "cell_type": "code",
      "source": [
        "optimizer = torch.optim.Adam(model.parameters(), lr=0.01) # засовываем все параметры - они пока необученные\n",
        "criterion = nn.BCELoss() # класс у нас 1 - поэтому бинарная кросс энтропия тут справляется"
      ],
      "metadata": {
        "id": "PF3LMAeqmBri"
      },
      "execution_count": 59,
      "outputs": []
    },
    {
      "cell_type": "code",
      "source": [
        "model = model.to(device)\n",
        "model.train()\n",
        "th = 0.5\n",
        "\n",
        "train_loss_history = []\n",
        "test_loss_history = []\n",
        "\n",
        "\n",
        "for epoch in range(epochs):\n",
        "    running_items, running_right = 0.0, 0.0\n",
        "    for i, data in enumerate(train_loader, 0):\n",
        "        inputs, labels = data[0].to(device), data[1].to(device)\n",
        "\n",
        "        # обнуляем градиент\n",
        "        optimizer.zero_grad()\n",
        "        outputs = model(inputs)\n",
        "\n",
        "        loss = criterion(outputs, labels.float().view(-1, 1))\n",
        "        loss.backward()\n",
        "        optimizer.step()\n",
        "\n",
        "        # подсчет ошибки на обучении\n",
        "        loss = loss.item()\n",
        "        running_items += len(labels)\n",
        "        # подсчет метрики на обучении\n",
        "        pred_labels = torch.squeeze((outputs > th).int())\n",
        "        running_right += (labels == pred_labels).sum()\n",
        "\n",
        "    # выводим статистику о процессе обучения (переводим модель в валидацию)\n",
        "    model.eval()\n",
        "\n",
        "    print(f'Epoch [{epoch + 1}/{epochs}]. ' \\\n",
        "            f'Step [{i + 1}/{len(train_loader)}]. ' \\\n",
        "            f'Loss: {loss:.3f}. ' \\\n",
        "            f'Acc: {running_right / running_items:.3f}', end='. ')\n",
        "    running_loss, running_items, running_right = 0.0, 0.0, 0.0\n",
        "    train_loss_history.append(loss)\n",
        "\n",
        "        # выводим статистику на тестовых данных\n",
        "    test_running_right, test_running_total, test_loss = 0.0, 0.0, 0.0\n",
        "    for j, data in enumerate(val_loader):\n",
        "        test_labels = data[1].to(device)\n",
        "        test_outputs = model(data[0].to(device))\n",
        "\n",
        "        # подсчет ошибки на тесте\n",
        "        test_loss = criterion(test_outputs, test_labels.float().view(-1, 1))\n",
        "        # подсчет метрики на тесте\n",
        "        test_running_total += len(data[1])\n",
        "        pred_test_labels = torch.squeeze((test_outputs > th).int())\n",
        "        test_running_right += (test_labels == pred_test_labels).sum()\n",
        "\n",
        "    test_loss_history.append(test_loss.item())\n",
        "    print(f'Test loss: {test_loss:.3f}. Test acc: {test_running_right / test_running_total:.3f}')\n",
        "\n",
        "    model.train()\n",
        "\n",
        "print('Training is finished!')"
      ],
      "metadata": {
        "id": "t-58ftXsmE09",
        "colab": {
          "base_uri": "https://localhost:8080/"
        },
        "outputId": "cf33c2ab-b505-4611-8385-5c9c76e3a2fc"
      },
      "execution_count": 60,
      "outputs": [
        {
          "output_type": "stream",
          "name": "stdout",
          "text": [
            "Epoch [1/15]. Step [47/47]. Loss: 0.240. Acc: 0.928. Test loss: 0.261. Test acc: 0.930\n",
            "Epoch [2/15]. Step [47/47]. Loss: 0.140. Acc: 0.930. Test loss: 0.194. Test acc: 0.930\n",
            "Epoch [3/15]. Step [47/47]. Loss: 0.156. Acc: 0.935. Test loss: 0.029. Test acc: 0.941\n",
            "Epoch [4/15]. Step [47/47]. Loss: 0.145. Acc: 0.950. Test loss: 0.025. Test acc: 0.942\n",
            "Epoch [5/15]. Step [47/47]. Loss: 0.083. Acc: 0.959. Test loss: 0.032. Test acc: 0.944\n",
            "Epoch [6/15]. Step [47/47]. Loss: 0.089. Acc: 0.967. Test loss: 0.029. Test acc: 0.939\n",
            "Epoch [7/15]. Step [47/47]. Loss: 0.059. Acc: 0.975. Test loss: 0.072. Test acc: 0.939\n",
            "Epoch [8/15]. Step [47/47]. Loss: 0.072. Acc: 0.981. Test loss: 0.361. Test acc: 0.937\n",
            "Epoch [9/15]. Step [47/47]. Loss: 0.039. Acc: 0.984. Test loss: 0.002. Test acc: 0.935\n",
            "Epoch [10/15]. Step [47/47]. Loss: 0.042. Acc: 0.986. Test loss: 1.177. Test acc: 0.940\n",
            "Epoch [11/15]. Step [47/47]. Loss: 0.025. Acc: 0.988. Test loss: 0.003. Test acc: 0.938\n",
            "Epoch [12/15]. Step [47/47]. Loss: 0.029. Acc: 0.989. Test loss: 0.000. Test acc: 0.934\n",
            "Epoch [13/15]. Step [47/47]. Loss: 0.039. Acc: 0.990. Test loss: 0.012. Test acc: 0.932\n",
            "Epoch [14/15]. Step [47/47]. Loss: 0.021. Acc: 0.990. Test loss: 0.000. Test acc: 0.934\n",
            "Epoch [15/15]. Step [47/47]. Loss: 0.026. Acc: 0.991. Test loss: 0.000. Test acc: 0.923\n",
            "Training is finished!\n"
          ]
        }
      ]
    },
    {
      "cell_type": "code",
      "source": [
        "import matplotlib.pyplot as plt\n",
        "\n",
        "plt.title('Loss history')\n",
        "plt.grid(True)\n",
        "plt.ylabel('Loss')\n",
        "plt.xlabel('Epoch')\n",
        "plt.plot(train_loss_history, label='train')\n",
        "plt.plot(test_loss_history, label='test')\n",
        "plt.legend();"
      ],
      "metadata": {
        "id": "NM-CoJMjmIYb",
        "colab": {
          "base_uri": "https://localhost:8080/",
          "height": 472
        },
        "outputId": "fcf70bb8-ca73-4d19-db68-10fd0a0fc95e"
      },
      "execution_count": 61,
      "outputs": [
        {
          "output_type": "display_data",
          "data": {
            "text/plain": [
              "<Figure size 640x480 with 1 Axes>"
            ],
            "image/png": "[encoded data removed]"
          },
          "metadata": {}
        }
      ]
    },
    {
      "cell_type": "markdown",
      "source": [
        "Результат для max_len=20, max_words=2000\n",
        "\n",
        "Epoch [1/15]. Step [47/47]. Loss: 0.266. Acc: 0.921. Test loss: 0.004. Test acc: 0.930\n",
        "\n",
        "Epoch [2/15]. Step [47/47]. Loss: 0.136. Acc: 0.944. Test loss: 0.118. Test acc: 0.949\n",
        "\n",
        "Epoch [3/15]. Step [47/47]. Loss: 0.095. Acc: 0.963. Test loss: 0.579. Test acc: 0.950\n",
        "\n",
        "Epoch [4/15]. Step [47/47]. Loss: 0.069. Acc: 0.974. Test loss: 0.044. Test acc: 0.942\n",
        "\n",
        "Epoch [5/15]. Step [47/47]. Loss: 0.044. Acc: 0.982. Test loss: 0.013. Test acc: 0.951\n",
        "\n",
        "Epoch [6/15]. Step [47/47]. Loss: 0.024. Acc: 0.984. Test loss: 0.032. Test acc: 0.935\n",
        "\n",
        "Epoch [7/15]. Step [47/47]. Loss: 0.071. Acc: 0.989. Test loss: 0.038. Test acc: 0.935\n",
        "\n",
        "Epoch [8/15]. Step [47/47]. Loss: 0.012. Acc: 0.991. Test loss: 0.015. Test acc: 0.948\n",
        "\n",
        "Epoch [9/15]. Step [47/47]. Loss: 0.008. Acc: 0.994. Test loss: 0.000. Test acc: 0.948\n",
        "\n",
        "Epoch [10/15]. Step [47/47]. Loss: 0.018. Acc: 0.992. Test loss: 0.001. Test acc: 0.944\n",
        "\n",
        "Epoch [11/15]. Step [47/47]. Loss: 0.018. Acc: 0.993. Test loss: 2.570. Test acc: 0.949\n",
        "\n",
        "Epoch [12/15]. Step [47/47]. Loss: 0.002. Acc: 0.997. Test loss: 2.590. Test acc: 0.949\n",
        "\n",
        "Epoch [13/15]. Step [47/47]. Loss: 0.002. Acc: 0.997. Test loss: 0.000. Test acc: 0.949\n",
        "\n",
        "Epoch [14/15]. Step [47/47]. Loss: 0.020. Acc: 0.997. Test loss: 0.015. Test acc: 0.946\n",
        "\n",
        "Epoch [15/15]. Step [47/47]. Loss: 0.013. Acc: 0.996. Test loss: 0.000. Test acc: 0.949\n",
        "\n",
        "\n",
        "Результат для max_len=10, max_words=2000\n",
        "\n",
        "\n",
        "---\n",
        "\n",
        "\n",
        "\n",
        "Epoch [1/15]. Step [47/47]. Loss: 0.199. Acc: 0.912. Test loss: 0.018. Test acc: 0.930\n",
        "\n",
        "Epoch [2/15]. Step [47/47]. Loss: 0.178. Acc: 0.944. Test loss: 0.009. Test acc: 0.946\n",
        "\n",
        "Epoch [3/15]. Step [47/47]. Loss: 0.123. Acc: 0.962. Test loss: 0.051. Test acc: 0.950\n",
        "\n",
        "Epoch [4/15]. Step [47/47]. Loss: 0.065. Acc: 0.972. Test loss: 0.994. Test acc: 0.949\n",
        "\n",
        "Epoch [5/15]. Step [47/47]. Loss: 0.046. Acc: 0.979. Test loss: 0.002. Test acc: 0.945\n",
        "\n",
        "Epoch [6/15]. Step [47/47]. Loss: 0.026. Acc: 0.985. Test loss: 0.000. Test acc: 0.937\n",
        "\n",
        "Epoch [7/15]. Step [47/47]. Loss: 0.048. Acc: 0.988. Test loss: 0.031. Test acc: 0.949\n",
        "\n",
        "Epoch [8/15]. Step [47/47]. Loss: 0.027. Acc: 0.990. Test loss: 2.761. Test acc: 0.944\n",
        "\n",
        "Epoch [9/15]. Step [47/47]. Loss: 0.044. Acc: 0.994. Test loss: 0.000. Test acc: 0.943\n",
        "\n",
        "Epoch [10/15]. Step [47/47]. Loss: 0.027. Acc: 0.994. Test loss: 0.053. Test acc: 0.942\n",
        "\n",
        "Epoch [11/15]. Step [47/47]. Loss: 0.008. Acc: 0.995. Test loss: 0.034. Test acc: 0.945\n",
        "\n",
        "Epoch [12/15]. Step [47/47]. Loss: 0.018. Acc: 0.994. Test loss: 0.056. Test acc: 0.938\n",
        "\n",
        "Epoch [13/15]. Step [47/47]. Loss: 0.014. Acc: 0.995. Test loss: 0.003. Test acc: 0.942\n",
        "\n",
        "Epoch [14/15]. Step [47/47]. Loss: 0.039. Acc: 0.995. Test loss: 0.000. Test acc: 0.938\n",
        "\n",
        "Epoch [15/15]. Step [47/47]. Loss: 0.023. Acc: 0.994. Test loss: 0.000. Test acc: 0.940\n",
        "\n",
        "\n",
        "Результат для max_len=10, max_words=1000\n",
        "\n",
        "\n",
        "\n",
        "---\n",
        "\n",
        "\n",
        "Epoch [1/15]. Step [47/47]. Loss: 0.183. Acc: 0.912. Test loss: 0.056. Test acc: 0.935\n",
        "\n",
        "Epoch [2/15]. Step [47/47]. Loss: 0.165. Acc: 0.939. Test loss: 0.054. Test acc: 0.943\n",
        "\n",
        "Epoch [3/15]. Step [47/47]. Loss: 0.145. Acc: 0.951. Test loss: 0.982. Test acc: 0.935\n",
        "\n",
        "Epoch [4/15]. Step [47/47]. Loss: 0.105. Acc: 0.961. Test loss: 0.012. Test acc: 0.925\n",
        "\n",
        "Epoch [5/15]. Step [47/47]. Loss: 0.075. Acc: 0.970. Test loss: 0.099. Test acc: 0.940\n",
        "\n",
        "Epoch [6/15]. Step [47/47]. Loss: 0.090. Acc: 0.978. Test loss: 0.325. Test acc: 0.935\n",
        "\n",
        "Epoch [7/15]. Step [47/47]. Loss: 0.045. Acc: 0.981. Test loss: 2.214. Test acc: 0.941\n",
        "\n",
        "Epoch [8/15]. Step [47/47]. Loss: 0.047. Acc: 0.985. Test loss: 0.876. Test acc: 0.940\n",
        "\n",
        "Epoch [9/15]. Step [47/47]. Loss: 0.061. Acc: 0.986. Test loss: 2.361. Test acc: 0.941\n",
        "\n",
        "Epoch [10/15]. Step [47/47]. Loss: 0.052. Acc: 0.987. Test loss: 1.191. Test acc: 0.943\n",
        "\n",
        "Epoch [11/15]. Step [47/47]. Loss: 0.030. Acc: 0.988. Test loss: 0.005. Test acc: 0.938\n",
        "\n",
        "Epoch [12/15]. Step [47/47]. Loss: 0.040. Acc: 0.988. Test loss: 0.019. Test acc: 0.933\n",
        "\n",
        "Epoch [13/15]. Step [47/47]. Loss: 0.019. Acc: 0.991. Test loss: 0.000. Test acc: 0.939\n",
        "\n",
        "Epoch [14/15]. Step [47/47]. Loss: 0.017. Acc: 0.992. Test loss: 1.373. Test acc: 0.942\n",
        "\n",
        "Epoch [15/15]. Step [47/47]. Loss: 0.017. Acc: 0.993. Test loss: 0.000. Test acc: 0.938\n",
        "\n",
        "\n",
        "Результат для max_len=10, max_words=1000, embedding=64\n",
        "\n",
        "\n",
        "\n",
        "---\n",
        "\n",
        "\n",
        "\n",
        "Epoch [1/15]. Step [47/47]. Loss: 0.240. Acc: 0.928. Test loss: 0.261. Test acc: 0.930\n",
        "\n",
        "Epoch [2/15]. Step [47/47]. Loss: 0.140. Acc: 0.930. Test loss: 0.194. Test acc: 0.930\n",
        "\n",
        "Epoch [3/15]. Step [47/47]. Loss: 0.156. Acc: 0.935. Test loss: 0.029. Test acc: 0.941\n",
        "\n",
        "Epoch [4/15]. Step [47/47]. Loss: 0.145. Acc: 0.950. Test loss: 0.025. Test acc: 0.942\n",
        "\n",
        "Epoch [5/15]. Step [47/47]. Loss: 0.083. Acc: 0.959. Test loss: 0.032. Test acc: 0.944\n",
        "\n",
        "Epoch [6/15]. Step [47/47]. Loss: 0.089. Acc: 0.967. Test loss: 0.029. Test acc: 0.939\n",
        "\n",
        "Epoch [7/15]. Step [47/47]. Loss: 0.059. Acc: 0.975. Test loss: 0.072. Test acc: 0.939\n",
        "\n",
        "Epoch [8/15]. Step [47/47]. Loss: 0.072. Acc: 0.981. Test loss: 0.361. Test acc: 0.937\n",
        "\n",
        "Epoch [9/15]. Step [47/47]. Loss: 0.039. Acc: 0.984. Test loss: 0.002. Test acc: 0.935\n",
        "\n",
        "Epoch [10/15]. Step [47/47]. Loss: 0.042. Acc: 0.986. Test loss: 1.177. Test acc: 0.940\n",
        "\n",
        "Epoch [11/15]. Step [47/47]. Loss: 0.025. Acc: 0.988. Test loss: 0.003. Test acc: 0.938\n",
        "\n",
        "Epoch [12/15]. Step [47/47]. Loss: 0.029. Acc: 0.989. Test loss: 0.000. Test acc: 0.934\n",
        "\n",
        "Epoch [13/15]. Step [47/47]. Loss: 0.039. Acc: 0.990. Test loss: 0.012. Test acc: 0.932\n",
        "\n",
        "Epoch [14/15]. Step [47/47]. Loss: 0.021. Acc: 0.990. Test loss: 0.000. Test acc: 0.934\n",
        "\n",
        "Epoch [15/15]. Step [47/47]. Loss: 0.026. Acc: 0.991. Test loss: 0.000. Test acc: 0.923\n",
        "\n",
        "\n",
        "\n",
        "---\n",
        "\n",
        "\n",
        "\n",
        "лосс иногда скачет на трейне, ну наверно там что-то подыскивается, пытается улучшаться таким образом))\n",
        "\n",
        "точность модели не сильно зависит от изменения параметров (в рамках разумного конечно), 2-3 эпохи достаточно для этой модели"
      ],
      "metadata": {
        "id": "q-5-ImaCmQZH"
      }
    }
  ]
}